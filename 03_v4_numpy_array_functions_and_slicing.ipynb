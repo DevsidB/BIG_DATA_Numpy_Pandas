{
 "cells": [
  {
   "cell_type": "markdown",
   "id": "5c3b8a5a",
   "metadata": {},
   "source": [
    "# Numpy Basic functions"
   ]
  },
  {
   "cell_type": "code",
   "execution_count": 1,
   "id": "5a021688",
   "metadata": {},
   "outputs": [
    {
     "name": "stdout",
     "output_type": "stream",
     "text": [
      "[[ 2  0  4  5  6]\n",
      " [ 4  5  6  0 12]]\n"
     ]
    }
   ],
   "source": [
    "import numpy as np\n",
    "array1=np.array([[2,0,4,5,6],[4,5,6,0,12]]) # make sure there are equal number of coloumns\n",
    "print (array1)\n",
    "array2=np.array([[2,3.5,4,0.5,6.9],[4,5,6,7.45,8]],dtype='int32') # forcing numpy to change the data type for floats to int\n",
    "#print (type(array1))\n",
    "array3=np.array([[2,1,4,5,6],[4,5,6,4,12]])"
   ]
  },
  {
   "cell_type": "code",
   "execution_count": 2,
   "id": "7602c58d",
   "metadata": {},
   "outputs": [
    {
     "data": {
      "text/plain": [
       "6"
      ]
     },
     "execution_count": 2,
     "metadata": {},
     "output_type": "execute_result"
    }
   ],
   "source": [
    "array1[0,4] #zeroth row fourth column\n"
   ]
  },
  {
   "cell_type": "code",
   "execution_count": 3,
   "id": "b6a7d5ca",
   "metadata": {},
   "outputs": [
    {
     "data": {
      "text/plain": [
       "12"
      ]
     },
     "execution_count": 3,
     "metadata": {},
     "output_type": "execute_result"
    }
   ],
   "source": [
    "array1[1,4]  #first row fourth column"
   ]
  },
  {
   "cell_type": "code",
   "execution_count": 4,
   "id": "9d2ebd14",
   "metadata": {},
   "outputs": [
    {
     "data": {
      "text/plain": [
       "2"
      ]
     },
     "execution_count": 4,
     "metadata": {},
     "output_type": "execute_result"
    }
   ],
   "source": [
    "array1[0,0]"
   ]
  },
  {
   "cell_type": "code",
   "execution_count": 5,
   "id": "9a05d5bd",
   "metadata": {},
   "outputs": [
    {
     "data": {
      "text/plain": [
       "4"
      ]
     },
     "execution_count": 5,
     "metadata": {},
     "output_type": "execute_result"
    }
   ],
   "source": [
    "array1[1,0]"
   ]
  },
  {
   "cell_type": "code",
   "execution_count": 6,
   "id": "6d85658f",
   "metadata": {},
   "outputs": [
    {
     "data": {
      "text/plain": [
       "(2, 5)"
      ]
     },
     "execution_count": 6,
     "metadata": {},
     "output_type": "execute_result"
    }
   ],
   "source": [
    "array1.shape"
   ]
  },
  {
   "cell_type": "code",
   "execution_count": 7,
   "id": "fc582de6",
   "metadata": {},
   "outputs": [
    {
     "data": {
      "text/plain": [
       "dtype('int32')"
      ]
     },
     "execution_count": 7,
     "metadata": {},
     "output_type": "execute_result"
    }
   ],
   "source": [
    "array1.dtype"
   ]
  },
  {
   "cell_type": "code",
   "execution_count": 8,
   "id": "a3147dc4",
   "metadata": {},
   "outputs": [
    {
     "data": {
      "text/plain": [
       "dtype('int32')"
      ]
     },
     "execution_count": 8,
     "metadata": {},
     "output_type": "execute_result"
    }
   ],
   "source": [
    "array2.dtype"
   ]
  },
  {
   "cell_type": "code",
   "execution_count": 9,
   "id": "5caa196b",
   "metadata": {},
   "outputs": [
    {
     "data": {
      "text/plain": [
       "array([0., 0., 0., 0.])"
      ]
     },
     "execution_count": 9,
     "metadata": {},
     "output_type": "execute_result"
    }
   ],
   "source": [
    "np.zeros(4)"
   ]
  },
  {
   "cell_type": "code",
   "execution_count": 10,
   "id": "3ee6d48f",
   "metadata": {},
   "outputs": [
    {
     "data": {
      "text/plain": [
       "array([[0, 0, 0, 0, 0, 0],\n",
       "       [0, 0, 0, 0, 0, 0],\n",
       "       [0, 0, 0, 0, 0, 0],\n",
       "       [0, 0, 0, 0, 0, 0]])"
      ]
     },
     "execution_count": 10,
     "metadata": {},
     "output_type": "execute_result"
    }
   ],
   "source": [
    "# np.zeros([4,6])\n",
    "np.zeros([4,6],dtype='int32') # forcing integer output"
   ]
  },
  {
   "cell_type": "code",
   "execution_count": 11,
   "id": "1d0eb54d",
   "metadata": {},
   "outputs": [
    {
     "data": {
      "text/plain": [
       "array([[0., 0., 0., 0., 0., 0.],\n",
       "       [0., 0., 0., 0., 0., 0.],\n",
       "       [0., 0., 0., 0., 0., 0.],\n",
       "       [0., 0., 0., 0., 0., 0.]])"
      ]
     },
     "execution_count": 11,
     "metadata": {},
     "output_type": "execute_result"
    }
   ],
   "source": [
    "np.zeros((4,6))"
   ]
  },
  {
   "cell_type": "code",
   "execution_count": 12,
   "id": "bd0ad9d0",
   "metadata": {},
   "outputs": [
    {
     "data": {
      "text/plain": [
       "dtype('float64')"
      ]
     },
     "execution_count": 12,
     "metadata": {},
     "output_type": "execute_result"
    }
   ],
   "source": [
    "np.ones((6)).dtype #returns data type"
   ]
  },
  {
   "cell_type": "code",
   "execution_count": 13,
   "id": "7529859b",
   "metadata": {},
   "outputs": [
    {
     "data": {
      "text/plain": [
       "array([1., 1., 1., 1., 1., 1.])"
      ]
     },
     "execution_count": 13,
     "metadata": {},
     "output_type": "execute_result"
    }
   ],
   "source": [
    "np.ones((6))"
   ]
  },
  {
   "cell_type": "code",
   "execution_count": 14,
   "id": "0cb424a2",
   "metadata": {},
   "outputs": [
    {
     "data": {
      "text/plain": [
       "array([[0., 0., 0., 0., 0., 0.],\n",
       "       [0., 0., 0., 0., 0., 0.],\n",
       "       [0., 0., 0., 0., 0., 0.],\n",
       "       [0., 0., 0., 0., 0., 0.]])"
      ]
     },
     "execution_count": 14,
     "metadata": {},
     "output_type": "execute_result"
    }
   ],
   "source": [
    "np.empty((4,6)) # np.empty may look similar to np.zero but it is not. It just allocates the empty cells not necessarily being zero."
   ]
  },
  {
   "cell_type": "code",
   "execution_count": 15,
   "id": "bf6b77c3",
   "metadata": {},
   "outputs": [
    {
     "data": {
      "text/plain": [
       "array([[ 2,  0,  4,  5,  6],\n",
       "       [ 4,  5,  6,  0, 12]])"
      ]
     },
     "execution_count": 15,
     "metadata": {},
     "output_type": "execute_result"
    }
   ],
   "source": [
    "array1"
   ]
  },
  {
   "cell_type": "code",
   "execution_count": 16,
   "id": "6fd8154c",
   "metadata": {},
   "outputs": [
    {
     "data": {
      "text/plain": [
       "array([[  4,   0,  16,  25,  36],\n",
       "       [ 16,  25,  36,   0, 144]])"
      ]
     },
     "execution_count": 16,
     "metadata": {},
     "output_type": "execute_result"
    }
   ],
   "source": [
    "array1*array1"
   ]
  },
  {
   "cell_type": "code",
   "execution_count": 17,
   "id": "76476a46",
   "metadata": {},
   "outputs": [
    {
     "name": "stderr",
     "output_type": "stream",
     "text": [
      "C:\\Users\\DELL\\AppData\\Local\\Temp\\ipykernel_5772\\3963778006.py:1: RuntimeWarning: invalid value encountered in true_divide\n",
      "  array1/array1\n"
     ]
    },
    {
     "data": {
      "text/plain": [
       "array([[ 1., nan,  1.,  1.,  1.],\n",
       "       [ 1.,  1.,  1., nan,  1.]])"
      ]
     },
     "execution_count": 17,
     "metadata": {},
     "output_type": "execute_result"
    }
   ],
   "source": [
    "array1/array1"
   ]
  },
  {
   "cell_type": "code",
   "execution_count": 18,
   "id": "e7f43e37",
   "metadata": {},
   "outputs": [
    {
     "data": {
      "text/plain": [
       "array([[ 2,  0,  4,  5,  6],\n",
       "       [ 4,  5,  6,  0, 12]])"
      ]
     },
     "execution_count": 18,
     "metadata": {},
     "output_type": "execute_result"
    }
   ],
   "source": [
    "array1"
   ]
  },
  {
   "cell_type": "code",
   "execution_count": 19,
   "id": "66475def",
   "metadata": {},
   "outputs": [
    {
     "data": {
      "text/plain": [
       "array([[         4,          1,        256,       3125,      46656],\n",
       "       [       256,       3125,      46656,          1, -251658240]],\n",
       "      dtype=int32)"
      ]
     },
     "execution_count": 19,
     "metadata": {},
     "output_type": "execute_result"
    }
   ],
   "source": [
    "array1**array1 # displays wrong value for 12 also called as garbage value."
   ]
  },
  {
   "cell_type": "code",
   "execution_count": 20,
   "id": "96ff5c31",
   "metadata": {},
   "outputs": [
    {
     "data": {
      "text/plain": [
       "8916100448256"
      ]
     },
     "execution_count": 20,
     "metadata": {},
     "output_type": "execute_result"
    }
   ],
   "source": [
    "12**12 # correct value for 12^12"
   ]
  },
  {
   "cell_type": "code",
   "execution_count": 21,
   "id": "e28d4cc9",
   "metadata": {},
   "outputs": [
    {
     "data": {
      "text/plain": [
       "array(8916100448256, dtype=int64)"
      ]
     },
     "execution_count": 21,
     "metadata": {},
     "output_type": "execute_result"
    }
   ],
   "source": [
    "np.array((12**12))# here data type changed to int64 for output as it is a larger number. python int too large error."
   ]
  },
  {
   "cell_type": "code",
   "execution_count": 22,
   "id": "c0fc3790",
   "metadata": {},
   "outputs": [
    {
     "ename": "OverflowError",
     "evalue": "Python int too large to convert to C long",
     "output_type": "error",
     "traceback": [
      "\u001b[1;31m---------------------------------------------------------------------------\u001b[0m",
      "\u001b[1;31mOverflowError\u001b[0m                             Traceback (most recent call last)",
      "Input \u001b[1;32mIn [22]\u001b[0m, in \u001b[0;36m<cell line: 1>\u001b[1;34m()\u001b[0m\n\u001b[1;32m----> 1\u001b[0m \u001b[43mnp\u001b[49m\u001b[38;5;241;43m.\u001b[39;49m\u001b[43marray\u001b[49m\u001b[43m(\u001b[49m\u001b[43m(\u001b[49m\u001b[38;5;241;43m12.0\u001b[39;49m\u001b[38;5;241;43m*\u001b[39;49m\u001b[38;5;241;43m*\u001b[39;49m\u001b[38;5;241;43m12\u001b[39;49m\u001b[43m)\u001b[49m\u001b[43m,\u001b[49m\u001b[43mdtype\u001b[49m\u001b[38;5;241;43m=\u001b[39;49m\u001b[43m \u001b[49m\u001b[38;5;124;43m'\u001b[39;49m\u001b[38;5;124;43mint32\u001b[39;49m\u001b[38;5;124;43m'\u001b[39;49m\u001b[43m)\u001b[49m\n",
      "\u001b[1;31mOverflowError\u001b[0m: Python int too large to convert to C long"
     ]
    }
   ],
   "source": [
    "np.array((12.0**12),dtype= 'int32')# here data type forced changed to int32 giving decimal as i/p while int32 being to small to handle  .\n",
    "# np.array((12**12),dtype= 'int32')"
   ]
  },
  {
   "cell_type": "code",
   "execution_count": 23,
   "id": "0745176c",
   "metadata": {},
   "outputs": [
    {
     "data": {
      "text/plain": [
       "dtype('float64')"
      ]
     },
     "execution_count": 23,
     "metadata": {},
     "output_type": "execute_result"
    }
   ],
   "source": [
    "np.array((12.0**12)).dtype #checking the type for decimal "
   ]
  },
  {
   "cell_type": "code",
   "execution_count": 24,
   "id": "d3e84cec",
   "metadata": {},
   "outputs": [
    {
     "data": {
      "text/plain": [
       "array(8.91610045e+12)"
      ]
     },
     "execution_count": 24,
     "metadata": {},
     "output_type": "execute_result"
    }
   ],
   "source": [
    "np.array((12.0**12)) # displays correct value "
   ]
  },
  {
   "cell_type": "code",
   "execution_count": 25,
   "id": "9801583c",
   "metadata": {},
   "outputs": [
    {
     "data": {
      "text/plain": [
       "array([[0.5       , 1.        , 0.25      , 0.2       , 0.16666667],\n",
       "       [0.25      , 0.2       , 0.16666667, 0.25      , 0.08333333]])"
      ]
     },
     "execution_count": 25,
     "metadata": {},
     "output_type": "execute_result"
    }
   ],
   "source": [
    "1/array3"
   ]
  },
  {
   "cell_type": "markdown",
   "id": "979366d3",
   "metadata": {},
   "source": [
    "# Slicing Arrays"
   ]
  },
  {
   "cell_type": "code",
   "execution_count": 26,
   "id": "bf47c685",
   "metadata": {},
   "outputs": [
    {
     "data": {
      "text/plain": [
       "array([[ 2,  0,  4,  5,  6],\n",
       "       [ 4,  5,  6,  0, 12]])"
      ]
     },
     "execution_count": 26,
     "metadata": {},
     "output_type": "execute_result"
    }
   ],
   "source": [
    "array1"
   ]
  },
  {
   "cell_type": "code",
   "execution_count": 27,
   "id": "e061a6bb",
   "metadata": {},
   "outputs": [
    {
     "data": {
      "text/plain": [
       "array([[ 2,  0,  4,  5,  6],\n",
       "       [ 4,  5,  6,  0, 12]])"
      ]
     },
     "execution_count": 27,
     "metadata": {},
     "output_type": "execute_result"
    }
   ],
   "source": [
    "# array1[0] # prints the first list with index 0 [[this],[]]\n",
    "# array1[1] # prints the second list with index 1 [[],[this]]\n",
    "# array1[0:1] # prints the first list with index 0:1 [[this],[]] always prints 1 less -->if 1 prints 0\n",
    "array1[0:2] # prints the list with index 0:2 [[this],[this]] always prints 1 less--> if 2 prints 1"
   ]
  },
  {
   "cell_type": "code",
   "execution_count": 28,
   "id": "64bb7637",
   "metadata": {},
   "outputs": [],
   "source": [
    "array4=np.array([2,0,4,5,6,8,9])"
   ]
  },
  {
   "cell_type": "code",
   "execution_count": 29,
   "id": "a51ac633",
   "metadata": {},
   "outputs": [
    {
     "data": {
      "text/plain": [
       "array([6, 8])"
      ]
     },
     "execution_count": 29,
     "metadata": {},
     "output_type": "execute_result"
    }
   ],
   "source": [
    "array4[4:6]  #slicing array"
   ]
  },
  {
   "cell_type": "code",
   "execution_count": 30,
   "id": "20a1e0ba",
   "metadata": {},
   "outputs": [],
   "source": [
    "a=array4[4:6] #assigning integer to array. To avoid changing the index of parent array use below code\n",
    "# a=array4[4:6].copy()"
   ]
  },
  {
   "cell_type": "code",
   "execution_count": 31,
   "id": "1b7424e9",
   "metadata": {},
   "outputs": [
    {
     "data": {
      "text/plain": [
       "array([6, 8])"
      ]
     },
     "execution_count": 31,
     "metadata": {},
     "output_type": "execute_result"
    }
   ],
   "source": [
    "a # integer print"
   ]
  },
  {
   "cell_type": "code",
   "execution_count": 32,
   "id": "bf71b4a3",
   "metadata": {},
   "outputs": [],
   "source": [
    "a[0]=10 # changing value at index 0"
   ]
  },
  {
   "cell_type": "code",
   "execution_count": 33,
   "id": "9e13e818",
   "metadata": {},
   "outputs": [
    {
     "data": {
      "text/plain": [
       "array([10,  8])"
      ]
     },
     "execution_count": 33,
     "metadata": {},
     "output_type": "execute_result"
    }
   ],
   "source": [
    "a"
   ]
  },
  {
   "cell_type": "code",
   "execution_count": 34,
   "id": "12746c0d",
   "metadata": {},
   "outputs": [
    {
     "data": {
      "text/plain": [
       "array([ 2,  0,  4,  5, 10,  8,  9])"
      ]
     },
     "execution_count": 34,
     "metadata": {},
     "output_type": "execute_result"
    }
   ],
   "source": [
    "array4 # array4 index at array[4] changed to 10 using sliced variable a. "
   ]
  },
  {
   "cell_type": "code",
   "execution_count": 35,
   "id": "cbb2d173",
   "metadata": {},
   "outputs": [],
   "source": [
    "array5=np.array([3,4,5,6,7,8,9])"
   ]
  },
  {
   "cell_type": "code",
   "execution_count": 36,
   "id": "c02a1cf2",
   "metadata": {},
   "outputs": [
    {
     "data": {
      "text/plain": [
       "array([3, 4, 5, 6, 7, 8, 9])"
      ]
     },
     "execution_count": 36,
     "metadata": {},
     "output_type": "execute_result"
    }
   ],
   "source": [
    "array5"
   ]
  },
  {
   "cell_type": "code",
   "execution_count": 37,
   "id": "b56f5c21",
   "metadata": {},
   "outputs": [],
   "source": [
    "a=array5[4:6].copy() # doesnt change the values in the parent cell"
   ]
  },
  {
   "cell_type": "code",
   "execution_count": 38,
   "id": "9dcb687f",
   "metadata": {},
   "outputs": [
    {
     "data": {
      "text/plain": [
       "array([7, 8])"
      ]
     },
     "execution_count": 38,
     "metadata": {},
     "output_type": "execute_result"
    }
   ],
   "source": [
    "a"
   ]
  },
  {
   "cell_type": "code",
   "execution_count": 39,
   "id": "1a32f929",
   "metadata": {},
   "outputs": [],
   "source": [
    "a[0]=0"
   ]
  },
  {
   "cell_type": "code",
   "execution_count": 40,
   "id": "2a9fd1fe",
   "metadata": {},
   "outputs": [
    {
     "data": {
      "text/plain": [
       "array([0, 8])"
      ]
     },
     "execution_count": 40,
     "metadata": {},
     "output_type": "execute_result"
    }
   ],
   "source": [
    "a"
   ]
  },
  {
   "cell_type": "code",
   "execution_count": 41,
   "id": "c72b0d25",
   "metadata": {},
   "outputs": [
    {
     "data": {
      "text/plain": [
       "array([3, 4, 5, 6, 7, 8, 9])"
      ]
     },
     "execution_count": 41,
     "metadata": {},
     "output_type": "execute_result"
    }
   ],
   "source": [
    "array5 # cell value not changed"
   ]
  },
  {
   "cell_type": "code",
   "execution_count": 42,
   "id": "faa05b25",
   "metadata": {},
   "outputs": [],
   "source": [
    "a=array5[4:6] # will change the values of the parent cell at the referenced index"
   ]
  },
  {
   "cell_type": "code",
   "execution_count": 43,
   "id": "509dddd7",
   "metadata": {},
   "outputs": [],
   "source": [
    "a[0]=0"
   ]
  },
  {
   "cell_type": "code",
   "execution_count": 44,
   "id": "ed6d4dd0",
   "metadata": {},
   "outputs": [
    {
     "data": {
      "text/plain": [
       "array([0, 8])"
      ]
     },
     "execution_count": 44,
     "metadata": {},
     "output_type": "execute_result"
    }
   ],
   "source": [
    "a"
   ]
  },
  {
   "cell_type": "code",
   "execution_count": 45,
   "id": "cd8ef867",
   "metadata": {},
   "outputs": [
    {
     "data": {
      "text/plain": [
       "array([3, 4, 5, 6, 0, 8, 9])"
      ]
     },
     "execution_count": 45,
     "metadata": {},
     "output_type": "execute_result"
    }
   ],
   "source": [
    "array5 # cell value changed"
   ]
  },
  {
   "cell_type": "code",
   "execution_count": 46,
   "id": "d2c2033e",
   "metadata": {},
   "outputs": [],
   "source": [
    "a= array5[:7]"
   ]
  },
  {
   "cell_type": "code",
   "execution_count": 47,
   "id": "77ce66f8",
   "metadata": {},
   "outputs": [
    {
     "data": {
      "text/plain": [
       "array([3, 4, 5, 6, 0, 8, 9])"
      ]
     },
     "execution_count": 47,
     "metadata": {},
     "output_type": "execute_result"
    }
   ],
   "source": [
    "a"
   ]
  },
  {
   "cell_type": "code",
   "execution_count": 48,
   "id": "d12e1c4b",
   "metadata": {},
   "outputs": [],
   "source": [
    "a= array5[:]"
   ]
  },
  {
   "cell_type": "code",
   "execution_count": 49,
   "id": "eac02734",
   "metadata": {},
   "outputs": [
    {
     "data": {
      "text/plain": [
       "array([3, 4, 5, 6, 0, 8, 9])"
      ]
     },
     "execution_count": 49,
     "metadata": {},
     "output_type": "execute_result"
    }
   ],
   "source": [
    "a"
   ]
  },
  {
   "cell_type": "code",
   "execution_count": 50,
   "id": "76ce1c7d",
   "metadata": {},
   "outputs": [],
   "source": [
    "a= array5[0:]"
   ]
  },
  {
   "cell_type": "code",
   "execution_count": 51,
   "id": "2bfdff59",
   "metadata": {},
   "outputs": [
    {
     "data": {
      "text/plain": [
       "array([3, 4, 5, 6, 0, 8, 9])"
      ]
     },
     "execution_count": 51,
     "metadata": {},
     "output_type": "execute_result"
    }
   ],
   "source": [
    "a"
   ]
  },
  {
   "cell_type": "code",
   "execution_count": 52,
   "id": "4ba1980d",
   "metadata": {},
   "outputs": [],
   "source": [
    "a= array5[:-3]"
   ]
  },
  {
   "cell_type": "code",
   "execution_count": 53,
   "id": "7f83bef7",
   "metadata": {},
   "outputs": [
    {
     "data": {
      "text/plain": [
       "array([3, 4, 5, 6])"
      ]
     },
     "execution_count": 53,
     "metadata": {},
     "output_type": "execute_result"
    }
   ],
   "source": [
    "a"
   ]
  },
  {
   "cell_type": "code",
   "execution_count": 54,
   "id": "d4f366e6",
   "metadata": {},
   "outputs": [],
   "source": [
    "a= array5[-3:]"
   ]
  },
  {
   "cell_type": "code",
   "execution_count": 55,
   "id": "818d4171",
   "metadata": {},
   "outputs": [
    {
     "data": {
      "text/plain": [
       "array([0, 8, 9])"
      ]
     },
     "execution_count": 55,
     "metadata": {},
     "output_type": "execute_result"
    }
   ],
   "source": [
    "a"
   ]
  },
  {
   "cell_type": "code",
   "execution_count": null,
   "id": "4cbe4514",
   "metadata": {},
   "outputs": [],
   "source": []
  }
 ],
 "metadata": {
  "kernelspec": {
   "display_name": "Python 3 (ipykernel)",
   "language": "python",
   "name": "python3"
  },
  "language_info": {
   "codemirror_mode": {
    "name": "ipython",
    "version": 3
   },
   "file_extension": ".py",
   "mimetype": "text/x-python",
   "name": "python",
   "nbconvert_exporter": "python",
   "pygments_lexer": "ipython3",
   "version": "3.9.12"
  }
 },
 "nbformat": 4,
 "nbformat_minor": 5
}
