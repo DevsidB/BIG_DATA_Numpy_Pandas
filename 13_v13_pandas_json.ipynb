{
 "cells": [
  {
   "cell_type": "markdown",
   "id": "643fc374",
   "metadata": {},
   "source": [
    "# Writing a text file with json"
   ]
  },
  {
   "cell_type": "code",
   "execution_count": 1,
   "id": "32b81818",
   "metadata": {},
   "outputs": [],
   "source": [
    "import json # cannot comment in json...use double quotes in json. single quotes not allowed.single quotes makes a string."
   ]
  },
  {
   "cell_type": "code",
   "execution_count": 2,
   "id": "189988cb",
   "metadata": {},
   "outputs": [],
   "source": [
    "data = '''{\n",
    "  \"params\":\n",
    "  {\n",
    "    \"tag_line\": \"programmers\",\n",
    "    \"gmail-user\":\"your-email@gmail.com\",\n",
    "    \"gmail-password\":\"gmailpassword\",\n",
    "    \"about_text\": \"Hi my name is Sid and I study data Science and I am a good boy\",\n",
    "    \"no_of_posts\": 3,\n",
    "    \"login_image\":\"login.svg\",\n",
    "    \"admin_user\":\"Sid\",\n",
    "    \"admin_password\": \"subscribenow\"\n",
    "  }\n",
    "\n",
    "}'''"
   ]
  },
  {
   "cell_type": "code",
   "execution_count": 3,
   "id": "d4fdf369",
   "metadata": {},
   "outputs": [],
   "source": [
    "x= json.loads(data) #comment"
   ]
  },
  {
   "cell_type": "code",
   "execution_count": 4,
   "id": "c8e4fb33",
   "metadata": {},
   "outputs": [],
   "source": [
    "with open (\"datafile.json\",\"w\") as f:\n",
    "    json.dump(x,f)"
   ]
  },
  {
   "cell_type": "code",
   "execution_count": 5,
   "id": "b7811e36",
   "metadata": {},
   "outputs": [
    {
     "data": {
      "text/plain": [
       "{'params': {'tag_line': 'programmers',\n",
       "  'gmail-user': 'your-email@gmail.com',\n",
       "  'gmail-password': 'gmailpassword',\n",
       "  'about_text': 'Hi my name is Sid and I study data Science and I am a good boy',\n",
       "  'no_of_posts': 3,\n",
       "  'login_image': 'login.svg',\n",
       "  'admin_user': 'Sid',\n",
       "  'admin_password': 'subscribenow'}}"
      ]
     },
     "execution_count": 5,
     "metadata": {},
     "output_type": "execute_result"
    }
   ],
   "source": [
    "x #comment"
   ]
  },
  {
   "cell_type": "code",
   "execution_count": 6,
   "id": "31e4e40d",
   "metadata": {},
   "outputs": [
    {
     "data": {
      "text/plain": [
       "{'tag_line': 'programmers',\n",
       " 'gmail-user': 'your-email@gmail.com',\n",
       " 'gmail-password': 'gmailpassword',\n",
       " 'about_text': 'Hi my name is Sid and I study data Science and I am a good boy',\n",
       " 'no_of_posts': 3,\n",
       " 'login_image': 'login.svg',\n",
       " 'admin_user': 'Sid',\n",
       " 'admin_password': 'subscribenow'}"
      ]
     },
     "execution_count": 6,
     "metadata": {},
     "output_type": "execute_result"
    }
   ],
   "source": [
    "x['params']  # trying to comment"
   ]
  },
  {
   "cell_type": "code",
   "execution_count": 7,
   "id": "38aef451",
   "metadata": {},
   "outputs": [],
   "source": [
    "with open (\"datafile.json\") as f:\n",
    "    a=f.read()"
   ]
  },
  {
   "cell_type": "code",
   "execution_count": 8,
   "id": "aaf344d4",
   "metadata": {},
   "outputs": [
    {
     "data": {
      "text/plain": [
       "'{\"params\": {\"tag_line\": \"programmers\", \"gmail-user\": \"your-email@gmail.com\", \"gmail-password\": \"gmailpassword\", \"about_text\": \"Hi my name is Sid and I study data Science and I am a good boy\", \"no_of_posts\": 3, \"login_image\": \"login.svg\", \"admin_user\": \"Sid\", \"admin_password\": \"subscribenow\"}}'"
      ]
     },
     "execution_count": 8,
     "metadata": {},
     "output_type": "execute_result"
    }
   ],
   "source": [
    "a"
   ]
  }
 ],
 "metadata": {
  "kernelspec": {
   "display_name": "Python 3 (ipykernel)",
   "language": "python",
   "name": "python3"
  },
  "language_info": {
   "codemirror_mode": {
    "name": "ipython",
    "version": 3
   },
   "file_extension": ".py",
   "mimetype": "text/x-python",
   "name": "python",
   "nbconvert_exporter": "python",
   "pygments_lexer": "ipython3",
   "version": "3.9.12"
  }
 },
 "nbformat": 4,
 "nbformat_minor": 5
}
