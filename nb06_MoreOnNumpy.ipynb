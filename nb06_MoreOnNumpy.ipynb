{
 "cells": [
  {
   "cell_type": "code",
   "execution_count": 1,
   "id": "6122a7aa",
   "metadata": {},
   "outputs": [],
   "source": [
    "import numpy as np"
   ]
  },
  {
   "cell_type": "code",
   "execution_count": 2,
   "id": "f971594f",
   "metadata": {},
   "outputs": [],
   "source": [
    "a= np.arange(6)"
   ]
  },
  {
   "cell_type": "code",
   "execution_count": 3,
   "id": "d3f1e7a5",
   "metadata": {},
   "outputs": [
    {
     "data": {
      "text/plain": [
       "array([0, 1, 2, 3, 4, 5])"
      ]
     },
     "execution_count": 3,
     "metadata": {},
     "output_type": "execute_result"
    }
   ],
   "source": [
    "a"
   ]
  },
  {
   "cell_type": "code",
   "execution_count": 43,
   "id": "0e0850be",
   "metadata": {},
   "outputs": [],
   "source": [
    "b= np.array([1,23,34,34,34,4,5,6,3,7,34,2,1,1,5,4,2,6])\n",
    "# b.shape #  shows total no of elements: 18 here \n",
    "# b.reshape(6,3) # will modify the shape of array and print but wont assign it to b\n",
    "# b.reshape(6,4) # will throw an error invalid dimensions \n",
    "b= b.reshape(6,3) # will modify the shape of array and print but will also assign it to b"
   ]
  },
  {
   "cell_type": "code",
   "execution_count": 44,
   "id": "74e2c9d5",
   "metadata": {},
   "outputs": [
    {
     "data": {
      "text/plain": [
       "array([[ 1, 23, 34],\n",
       "       [34, 34,  4],\n",
       "       [ 5,  6,  3],\n",
       "       [ 7, 34,  2],\n",
       "       [ 1,  1,  5],\n",
       "       [ 4,  2,  6]])"
      ]
     },
     "execution_count": 44,
     "metadata": {},
     "output_type": "execute_result"
    }
   ],
   "source": [
    "b\n"
   ]
  },
  {
   "cell_type": "code",
   "execution_count": 45,
   "id": "c5668a8a",
   "metadata": {},
   "outputs": [
    {
     "data": {
      "text/plain": [
       "array([[0, 1, 2],\n",
       "       [2, 0, 1],\n",
       "       [2, 0, 1],\n",
       "       [2, 0, 1],\n",
       "       [0, 1, 2],\n",
       "       [1, 0, 2]], dtype=int64)"
      ]
     },
     "execution_count": 45,
     "metadata": {},
     "output_type": "execute_result"
    }
   ],
   "source": [
    "# np.argsort(b) # returns the index of the elemnts in b in ascending order. same as row wise axis=1.\n",
    "np.argsort(b,axis=1) # ascending order of index row wise."
   ]
  },
  {
   "cell_type": "code",
   "execution_count": 46,
   "id": "cb2236ed",
   "metadata": {},
   "outputs": [
    {
     "data": {
      "text/plain": [
       "array([[0, 4, 3],\n",
       "       [4, 5, 2],\n",
       "       [5, 2, 1],\n",
       "       [2, 0, 4],\n",
       "       [3, 1, 5],\n",
       "       [1, 3, 0]], dtype=int64)"
      ]
     },
     "execution_count": 46,
     "metadata": {},
     "output_type": "execute_result"
    }
   ],
   "source": [
    "np.argsort(b,axis=0) # ascending order of index coloumn wise."
   ]
  },
  {
   "cell_type": "code",
   "execution_count": 47,
   "id": "893a2c32",
   "metadata": {},
   "outputs": [
    {
     "data": {
      "text/plain": [
       "0"
      ]
     },
     "execution_count": 47,
     "metadata": {},
     "output_type": "execute_result"
    }
   ],
   "source": [
    "np.argmin(b) # returns the index of the minimum element of b"
   ]
  },
  {
   "cell_type": "code",
   "execution_count": 48,
   "id": "6be0ffed",
   "metadata": {},
   "outputs": [
    {
     "data": {
      "text/plain": [
       "2"
      ]
     },
     "execution_count": 48,
     "metadata": {},
     "output_type": "execute_result"
    }
   ],
   "source": [
    "np.argmax(b) # returns the index of max element of b."
   ]
  },
  {
   "cell_type": "code",
   "execution_count": null,
   "id": "8f9a4cba",
   "metadata": {},
   "outputs": [],
   "source": []
  }
 ],
 "metadata": {
  "kernelspec": {
   "display_name": "Python 3 (ipykernel)",
   "language": "python",
   "name": "python3"
  },
  "language_info": {
   "codemirror_mode": {
    "name": "ipython",
    "version": 3
   },
   "file_extension": ".py",
   "mimetype": "text/x-python",
   "name": "python",
   "nbconvert_exporter": "python",
   "pygments_lexer": "ipython3",
   "version": "3.9.12"
  }
 },
 "nbformat": 4,
 "nbformat_minor": 5
}
