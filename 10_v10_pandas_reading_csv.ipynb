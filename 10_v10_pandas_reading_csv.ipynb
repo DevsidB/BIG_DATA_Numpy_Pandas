{
 "cells": [
  {
   "cell_type": "code",
   "execution_count": 1,
   "id": "001adbe2",
   "metadata": {},
   "outputs": [],
   "source": [
    "import pandas as pd"
   ]
  },
  {
   "cell_type": "code",
   "execution_count": 2,
   "id": "8a8222ab",
   "metadata": {},
   "outputs": [],
   "source": [
    "df= pd.read_csv('data.csv')"
   ]
  },
  {
   "cell_type": "code",
   "execution_count": 3,
   "id": "39c596ba",
   "metadata": {},
   "outputs": [
    {
     "data": {
      "text/html": [
       "<div>\n",
       "<style scoped>\n",
       "    .dataframe tbody tr th:only-of-type {\n",
       "        vertical-align: middle;\n",
       "    }\n",
       "\n",
       "    .dataframe tbody tr th {\n",
       "        vertical-align: top;\n",
       "    }\n",
       "\n",
       "    .dataframe thead th {\n",
       "        text-align: right;\n",
       "    }\n",
       "</style>\n",
       "<table border=\"1\" class=\"dataframe\">\n",
       "  <thead>\n",
       "    <tr style=\"text-align: right;\">\n",
       "      <th></th>\n",
       "      <th>SYMBOL</th>\n",
       "      <th>SERIES</th>\n",
       "      <th>DATE1</th>\n",
       "      <th>PREV_CLOSE</th>\n",
       "      <th>OPEN_PRICE</th>\n",
       "      <th>HIGH_PRICE</th>\n",
       "      <th>LOW_PRICE</th>\n",
       "      <th>LAST_PRICE</th>\n",
       "      <th>CLOSE_PRICE</th>\n",
       "      <th>AVG_PRICE</th>\n",
       "      <th>TTL_TRD_QNTY</th>\n",
       "      <th>TURNOVER_LACS</th>\n",
       "      <th>NO_OF_TRADES</th>\n",
       "      <th>DELIV_QTY</th>\n",
       "      <th>DELIV_PER</th>\n",
       "    </tr>\n",
       "  </thead>\n",
       "  <tbody>\n",
       "    <tr>\n",
       "      <th>0</th>\n",
       "      <td>20MICRONS</td>\n",
       "      <td>EQ</td>\n",
       "      <td>22-Aug-2022</td>\n",
       "      <td>102.25</td>\n",
       "      <td>102.70</td>\n",
       "      <td>111.90</td>\n",
       "      <td>102.50</td>\n",
       "      <td>108.2</td>\n",
       "      <td>107.40</td>\n",
       "      <td>107.89</td>\n",
       "      <td>1138635</td>\n",
       "      <td>1228.51</td>\n",
       "      <td>13127</td>\n",
       "      <td>322310</td>\n",
       "      <td>28.31</td>\n",
       "    </tr>\n",
       "    <tr>\n",
       "      <th>1</th>\n",
       "      <td>21STCENMGM</td>\n",
       "      <td>EQ</td>\n",
       "      <td>22-Aug-2022</td>\n",
       "      <td>27.50</td>\n",
       "      <td>28.05</td>\n",
       "      <td>28.05</td>\n",
       "      <td>28.05</td>\n",
       "      <td>28.05</td>\n",
       "      <td>28.05</td>\n",
       "      <td>28.05</td>\n",
       "      <td>4593</td>\n",
       "      <td>1.29</td>\n",
       "      <td>30</td>\n",
       "      <td>4593</td>\n",
       "      <td>100</td>\n",
       "    </tr>\n",
       "    <tr>\n",
       "      <th>2</th>\n",
       "      <td>3IINFOLTD</td>\n",
       "      <td>EQ</td>\n",
       "      <td>22-Aug-2022</td>\n",
       "      <td>45.70</td>\n",
       "      <td>45.70</td>\n",
       "      <td>45.70</td>\n",
       "      <td>44.00</td>\n",
       "      <td>44</td>\n",
       "      <td>44.15</td>\n",
       "      <td>44.76</td>\n",
       "      <td>521274</td>\n",
       "      <td>233.32</td>\n",
       "      <td>4275</td>\n",
       "      <td>300991</td>\n",
       "      <td>57.74</td>\n",
       "    </tr>\n",
       "    <tr>\n",
       "      <th>3</th>\n",
       "      <td>3MINDIA</td>\n",
       "      <td>EQ</td>\n",
       "      <td>22-Aug-2022</td>\n",
       "      <td>22856.45</td>\n",
       "      <td>22856.45</td>\n",
       "      <td>22987.90</td>\n",
       "      <td>22300.00</td>\n",
       "      <td>22300</td>\n",
       "      <td>22361.50</td>\n",
       "      <td>22531.79</td>\n",
       "      <td>1356</td>\n",
       "      <td>305.53</td>\n",
       "      <td>766</td>\n",
       "      <td>639</td>\n",
       "      <td>47.12</td>\n",
       "    </tr>\n",
       "    <tr>\n",
       "      <th>4</th>\n",
       "      <td>3PLAND</td>\n",
       "      <td>EQ</td>\n",
       "      <td>22-Aug-2022</td>\n",
       "      <td>17.15</td>\n",
       "      <td>18.40</td>\n",
       "      <td>18.85</td>\n",
       "      <td>16.25</td>\n",
       "      <td>18.85</td>\n",
       "      <td>18.85</td>\n",
       "      <td>18.45</td>\n",
       "      <td>36436</td>\n",
       "      <td>6.72</td>\n",
       "      <td>339</td>\n",
       "      <td>32007</td>\n",
       "      <td>87.84</td>\n",
       "    </tr>\n",
       "  </tbody>\n",
       "</table>\n",
       "</div>"
      ],
      "text/plain": [
       "       SYMBOL SERIES         DATE1  PREV_CLOSE  OPEN_PRICE  HIGH_PRICE  \\\n",
       "0   20MICRONS     EQ   22-Aug-2022      102.25      102.70      111.90   \n",
       "1  21STCENMGM     EQ   22-Aug-2022       27.50       28.05       28.05   \n",
       "2   3IINFOLTD     EQ   22-Aug-2022       45.70       45.70       45.70   \n",
       "3     3MINDIA     EQ   22-Aug-2022    22856.45    22856.45    22987.90   \n",
       "4      3PLAND     EQ   22-Aug-2022       17.15       18.40       18.85   \n",
       "\n",
       "   LOW_PRICE LAST_PRICE  CLOSE_PRICE  AVG_PRICE  TTL_TRD_QNTY  TURNOVER_LACS  \\\n",
       "0     102.50      108.2       107.40     107.89       1138635        1228.51   \n",
       "1      28.05      28.05        28.05      28.05          4593           1.29   \n",
       "2      44.00         44        44.15      44.76        521274         233.32   \n",
       "3   22300.00      22300     22361.50   22531.79          1356         305.53   \n",
       "4      16.25      18.85        18.85      18.45         36436           6.72   \n",
       "\n",
       "   NO_OF_TRADES DELIV_QTY DELIV_PER  \n",
       "0         13127    322310     28.31  \n",
       "1            30      4593       100  \n",
       "2          4275    300991     57.74  \n",
       "3           766       639     47.12  \n",
       "4           339     32007     87.84  "
      ]
     },
     "execution_count": 3,
     "metadata": {},
     "output_type": "execute_result"
    }
   ],
   "source": [
    "df.head()"
   ]
  },
  {
   "cell_type": "code",
   "execution_count": 4,
   "id": "b33e5eff",
   "metadata": {},
   "outputs": [
    {
     "name": "stdout",
     "output_type": "stream",
     "text": [
      "object\n"
     ]
    }
   ],
   "source": [
    "print (df['SERIES'].dtype)"
   ]
  },
  {
   "cell_type": "code",
   "execution_count": 5,
   "id": "6de1ea49",
   "metadata": {},
   "outputs": [
    {
     "name": "stdout",
     "output_type": "stream",
     "text": [
      "0         102.25\n",
      "1          27.50\n",
      "2          45.70\n",
      "3       22856.45\n",
      "4          17.15\n",
      "          ...   \n",
      "2262      267.80\n",
      "2263      178.10\n",
      "2264      180.15\n",
      "2265      388.30\n",
      "2266     1610.95\n",
      "Name: PREV_CLOSE, Length: 2267, dtype: float64\n"
     ]
    }
   ],
   "source": [
    "print (df['PREV_CLOSE'])"
   ]
  },
  {
   "cell_type": "code",
   "execution_count": 6,
   "id": "00186722",
   "metadata": {},
   "outputs": [
    {
     "name": "stdout",
     "output_type": "stream",
     "text": [
      "float64\n"
     ]
    }
   ],
   "source": [
    "print (df['PREV_CLOSE'].dtype)"
   ]
  },
  {
   "cell_type": "code",
   "execution_count": 7,
   "id": "913e3997",
   "metadata": {},
   "outputs": [
    {
     "name": "stdout",
     "output_type": "stream",
     "text": [
      "0        EQ\n",
      "1        EQ\n",
      "2        EQ\n",
      "3        EQ\n",
      "4        EQ\n",
      "       ... \n",
      "2262     EQ\n",
      "2263     EQ\n",
      "2264     EQ\n",
      "2265     EQ\n",
      "2266     EQ\n",
      "Name: SERIES, Length: 2267, dtype: category\n",
      "Categories (62, object): [' BE', ' BZ', ' E1', ' EQ', ..., ' Z8', ' Z9', ' ZA', ' ZI']\n"
     ]
    }
   ],
   "source": [
    "print (df['SERIES'].astype('category')) \n",
    "# category stores data in column in the form of list that consumes lesser memory.\n",
    "# It maps the rows to appropriate object in the list that reduces size of dataframes.\n",
    "# while object data type consumes more memory as it stores each cell individually.\n"
   ]
  },
  {
   "cell_type": "code",
   "execution_count": null,
   "id": "f59d1b98",
   "metadata": {},
   "outputs": [],
   "source": []
  }
 ],
 "metadata": {
  "kernelspec": {
   "display_name": "Python 3 (ipykernel)",
   "language": "python",
   "name": "python3"
  },
  "language_info": {
   "codemirror_mode": {
    "name": "ipython",
    "version": 3
   },
   "file_extension": ".py",
   "mimetype": "text/x-python",
   "name": "python",
   "nbconvert_exporter": "python",
   "pygments_lexer": "ipython3",
   "version": "3.9.12"
  }
 },
 "nbformat": 4,
 "nbformat_minor": 5
}
