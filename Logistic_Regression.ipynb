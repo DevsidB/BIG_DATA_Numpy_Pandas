{
 "cells": [
  {
   "cell_type": "code",
   "execution_count": 5,
   "id": "6514ceae",
   "metadata": {},
   "outputs": [
    {
     "data": {
      "image/png": "[encoded data removed]",
      "text/plain": [
       "<Figure size 432x288 with 1 Axes>"
      ]
     },
     "metadata": {},
     "output_type": "display_data"
    }
   ],
   "source": [
    "'''To train a model to find out whether a given data is virginica or not.'''\n",
    "from sklearn import datasets,linear_model\n",
    "from sklearn.linear_model import LogisticRegression\n",
    "import numpy as np\n",
    "import matplotlib.pyplot as plt \n",
    "from matplotlib import style\n",
    "\n",
    "iris= datasets.load_iris()\n",
    "## print (iris.keys())\n",
    "## print (iris.data)\n",
    "\n",
    "\n",
    "'''Training a Logistic regression model. '''\n",
    "x= iris.data[:,3:] # slicing the third index feature.\n",
    "## x= iris['data'][:,3:] #can also be written this way \n",
    "## print (x)\n",
    "\n",
    "## y= iris.target == 2 # will display true if index is 2 else for any other values false.\n",
    "## y = iris['target']==2 # Another way to write\n",
    "y = (iris.target==2).astype(np.int32) # Diplay true or false in binary output i.e. 1 or 0. 'int32' or 'int64' can be used. Dont use 'int' as it will throw a warning message.\n",
    "## print (y)\n",
    "\n",
    "clf= LogisticRegression()\n",
    "clf.fit(x,y)\n",
    "output_label = clf.predict([[4.5]])\n",
    "# print (output_label)\n",
    "'''Output:\n",
    "Returns the binary output 0 or 1 whether a flower is Virginica for single instance. '''\n",
    "\n",
    "\n",
    "'''Creating a new dataset to analyze values as input to the model for plotting.\n",
    "Training a Logistic regression model for multiple instance'''\n",
    "## Here (-100,1) (-500,1) will give the same results.(1,-100) (1,-500) etc will reverse the array rows and columns. \n",
    "## Negative values -100,-500 doesn't affect the results. Cannot leave empty so need to fill the brackets with any negative value and obtain the required array size.\n",
    "x_new = np.linspace(0,3,1000).reshape(-1,1) \n",
    "'''In NumPy, -1 in reshape(-1) refers to an unknown dimension that the reshape() function calculates for you. \n",
    "It is like saying: “I will leave this dimension for the reshape() function to determine”. \n",
    "A common use case is to flatten a nested array of an unknown number of elements to a 1D array.'''\n",
    "## Here (-100,1) (-500,1) will give the same results.(1,-100) (1,-500) etc will reverse the array rows and columns. \n",
    "# Negative values doesn't affect the results.\n",
    "## print (x_new)\n",
    "## print (x_new.shape)\n",
    "all_labels= clf.predict(x_new)\n",
    "# print (all_labels)\n",
    "# print (all_labels.shape)\n",
    "'''Output:\n",
    "Returns the binary output 0 or 1 whether a flower is Virginica for \n",
    "the new 1000 instances (x_new) between values 0 and 3 we created above for testing.'''\n",
    "\n",
    "\n",
    "'''Using Matplotlib to predict the probability of the 1000 dataset we created \n",
    "and plotting the same to check for the sigmoid function.'''\n",
    "style.use('ggplot')\n",
    "y_prob= clf.predict_proba(x_new)\n",
    "# print (y_prob) # Prints 2 columns \n",
    "# print (y_prob[0])\n",
    "# print (y_prob.shape)\n",
    "plt.plot (x_new,y_prob[:, 1],\"g-.\",label='Virginica') \n",
    "# plotting x and y values. Also slicing the predicted 2 columns in 1 column.\n",
    "'g-- means the graph would be in green colour with dashed line(dashes can be changed). It is usually blue in color '\n",
    "'''predict_proba() produces output of shape (n, k) where n is the number of data points and k is the number of classes you're trying to classify. \n",
    "Here we have two classes, first class is the probability that 'the flower not being  Virginica', \n",
    "and the second one is 'the flower being Virginica' , and hence we have 2 columns. \n",
    "Say your labels(classes) are [\"not being Verginica\", \"being Virginica\"]. \n",
    "If a datapoint is predicted to have 80% chance of 'not being Verginica' and consequently 20% chance of 'being Verginica', \n",
    "then your output row for that point will be [0.8, 0.2] to reflect these probabilities. \n",
    "Hence  if you don't slice the other column and consider  both the columns for plotting , \n",
    "at certain instance of [0.5, 0.5] you could see the plots intersecting each other for the sigmoid function.\n",
    "Adding up the columns of any instance will return the answer to be 1 i.e. [0.8 +0.2 ]= 1.\n",
    "Here we are considering the second column(index1) which displays the probability of being a 'Virginica'. '''\n",
    "plt.legend()\n",
    "plt.show()\n"
   ]
  },
  {
   "cell_type": "code",
   "execution_count": null,
   "id": "12b15f76",
   "metadata": {},
   "outputs": [],
   "source": []
  }
 ],
 "metadata": {
  "kernelspec": {
   "display_name": "Python 3 (ipykernel)",
   "language": "python",
   "name": "python3"
  },
  "language_info": {
   "codemirror_mode": {
    "name": "ipython",
    "version": 3
   },
   "file_extension": ".py",
   "mimetype": "text/x-python",
   "name": "python",
   "nbconvert_exporter": "python",
   "pygments_lexer": "ipython3",
   "version": "3.9.12"
  }
 },
 "nbformat": 4,
 "nbformat_minor": 5
}
