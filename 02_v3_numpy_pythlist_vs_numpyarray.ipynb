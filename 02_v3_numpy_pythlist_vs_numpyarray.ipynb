{
 "cells": [
  {
   "cell_type": "code",
   "execution_count": 1,
   "id": "db4f9a94",
   "metadata": {},
   "outputs": [],
   "source": [
    "import numpy as np"
   ]
  },
  {
   "cell_type": "code",
   "execution_count": 2,
   "id": "8199262d",
   "metadata": {},
   "outputs": [],
   "source": [
    "arr= np.arange(1000000)"
   ]
  },
  {
   "cell_type": "code",
   "execution_count": 7,
   "id": "3dcb374f",
   "metadata": {},
   "outputs": [
    {
     "data": {
      "text/plain": [
       "array([          0,       59049,      118098, ..., -1080719291,\n",
       "       -1080660242, -1080601193])"
      ]
     },
     "execution_count": 7,
     "metadata": {},
     "output_type": "execute_result"
    }
   ],
   "source": [
    "arr"
   ]
  },
  {
   "cell_type": "code",
   "execution_count": 3,
   "id": "c8482c84",
   "metadata": {},
   "outputs": [],
   "source": [
    "pythlist= list (range(1000000))"
   ]
  },
  {
   "cell_type": "code",
   "execution_count": 4,
   "id": "f542074c",
   "metadata": {},
   "outputs": [
    {
     "name": "stdout",
     "output_type": "stream",
     "text": [
      "CPU times: total: 1.58 s\n",
      "Wall time: 1.6 s\n"
     ]
    }
   ],
   "source": [
    "%time for i in range(10): [item *3 for item in pythlist]"
   ]
  },
  {
   "cell_type": "code",
   "execution_count": 5,
   "id": "42b24a48",
   "metadata": {},
   "outputs": [
    {
     "name": "stdout",
     "output_type": "stream",
     "text": [
      "CPU times: total: 46.9 ms\n",
      "Wall time: 55 ms\n"
     ]
    }
   ],
   "source": [
    "%time for i in range(10): arr= arr*3"
   ]
  },
  {
   "cell_type": "code",
   "execution_count": 6,
   "id": "4f273340",
   "metadata": {},
   "outputs": [
    {
     "data": {
      "text/plain": [
       "array([3, 4, 5, 6, 7, 8, 9])"
      ]
     },
     "execution_count": 6,
     "metadata": {},
     "output_type": "execute_result"
    }
   ],
   "source": [
    "np.array([3,4,5,6,7,8,9,])"
   ]
  },
  {
   "cell_type": "code",
   "execution_count": null,
   "id": "c1d478a3",
   "metadata": {},
   "outputs": [],
   "source": []
  }
 ],
 "metadata": {
  "kernelspec": {
   "display_name": "Python 3 (ipykernel)",
   "language": "python",
   "name": "python3"
  },
  "language_info": {
   "codemirror_mode": {
    "name": "ipython",
    "version": 3
   },
   "file_extension": ".py",
   "mimetype": "text/x-python",
   "name": "python",
   "nbconvert_exporter": "python",
   "pygments_lexer": "ipython3",
   "version": "3.9.12"
  }
 },
 "nbformat": 4,
 "nbformat_minor": 5
}
